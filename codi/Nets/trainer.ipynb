{
  "nbformat": 4,
  "nbformat_minor": 0,
  "metadata": {
    "colab": {
      "name": "trainer.ipynb",
      "provenance": [],
      "collapsed_sections": []
    },
    "kernelspec": {
      "name": "python3",
      "display_name": "Python 3"
    },
    "language_info": {
      "name": "python"
    },
    "accelerator": "GPU"
  },
  "cells": [
    {
      "cell_type": "code",
      "metadata": {
        "id": "m-64z_tpWotj"
      },
      "source": [
        "import torch\n",
        "import torch.nn as nn\n",
        "import torchvision"
      ],
      "execution_count": null,
      "outputs": []
    },
    {
      "cell_type": "code",
      "metadata": {
        "colab": {
          "base_uri": "https://localhost:8080/",
          "height": 35
        },
        "id": "oo185FDPWzFQ",
        "outputId": "8a9c6c86-086b-4954-9095-27a8d3f211f6"
      },
      "source": [
        "torch.cuda.get_device_name(0)"
      ],
      "execution_count": null,
      "outputs": [
        {
          "output_type": "execute_result",
          "data": {
            "application/vnd.google.colaboratory.intrinsic+json": {
              "type": "string"
            },
            "text/plain": [
              "'Tesla K80'"
            ]
          },
          "metadata": {},
          "execution_count": 25
        }
      ]
    },
    {
      "cell_type": "code",
      "metadata": {
        "id": "TzshwdgWYCG-"
      },
      "source": [
        "class Block(nn.Module):\n",
        "  def __init__(self, in_cn, out_cn):\n",
        "    super().__init__()\n",
        "    #cada block te dos convolucions\n",
        "    self.conv1 = nn.Conv2d(in_cn, out_cn, 3)\n",
        "    self.conv2 = nn.Conv2d(out_cn, out_cn, 3)\n",
        "    #definim la funció d'activació\n",
        "    self.relu = nn.ReLU()\n",
        "\n",
        "  def forward(self, x):\n",
        "    return self.relu(self.conv2(self.relu(self.conv1(x))))"
      ],
      "execution_count": null,
      "outputs": []
    },
    {
      "cell_type": "code",
      "metadata": {
        "id": "q2lzluIjk8gJ"
      },
      "source": [
        "class Encoder(nn.Module):\n",
        "  #a chs passem les dimensions dels Blocks que tindrem\n",
        "  def __init__(self, chs=(3,64,128,256,512,1024)):\n",
        "    super().__init__()\n",
        "    #creem una llista de mòduls amb els blocks,\n",
        "    #les dimensions seràn i i i+1, sent aquestes valors de la llista chs\n",
        "    self.enc_blocks = nn.ModuleList([Block(chs[i], chs[i+1]) for i in range(len(chs) - 1)])\n",
        "    self.pool = nn.MaxPool2d(2)\n",
        "\n",
        "  def forward(self, x):\n",
        "    ftrs = []\n",
        "    #per cada Block de la llista\n",
        "    for block in self.enc_blocks:\n",
        "      #obtenim l'output\n",
        "      x = block(x)\n",
        "      #l'afegim a la llista ftrs\n",
        "      ftrs.append(x)\n",
        "      #reduïm dimensions\n",
        "      x = self.pool(x)\n",
        "    return ftrs"
      ],
      "execution_count": null,
      "outputs": []
    },
    {
      "cell_type": "code",
      "metadata": {
        "id": "vzON7MPjvFnh"
      },
      "source": [
        "class Decoder(nn.Module):\n",
        "  #a chs passem les dimensions dels Blocks que tindrem\n",
        "  def __init__(self, chs = (1024, 512, 256, 128, 64)):\n",
        "    super().__init__()\n",
        "    self.chs = chs\n",
        "    #definim les upconvs com una llista de up-convolucions que anirà tenint els \n",
        "    #inputs i outputs i i i+1 definits a chs\n",
        "    self.upconvs = nn.ModuleList([nn.ConvTranspose2d(chs[i], chs[i+1], 2, 2) for i in range(len(chs) - 1)])\n",
        "    #creem una llista de mòduls amb els blocks,\n",
        "    #les dimensions seràn i i i+1, sent aquestes valors de la llista chs\n",
        "    self.dec_blocks = nn.ModuleList([Block(chs[i], chs[i+1]) for i in range(len(chs) - 1)])\n",
        "\n",
        "  def forward(self, x, encoder_features):\n",
        "    #per cada valor dels tamanys\n",
        "    for i in range(len(self.chs) - 1):\n",
        "      #fem la up-convolution corresponent\n",
        "      x = self.upconvs[i](x)\n",
        "      #retallem el marge dels resultats obtinguts per l'encoder\n",
        "      # (buit per culpa de la convolució)\n",
        "      enc_ftrs = self.crop(encoder_features[i], x)\n",
        "      #concatenem el valor actual amb els features retallats anteriorment\n",
        "      x = torch.cat([x, enc_ftrs], dim=1)\n",
        "      #ho passem al Block corresponent del Decoder\n",
        "      x = self.dec_blocks[i](x)\n",
        "    return x\n",
        "  \n",
        "  def crop(self, enc_ftrs, x):\n",
        "    #optenim l'altura i amplada de x\n",
        "    _, _, H, W = x.shape\n",
        "    #retallem\n",
        "    enc_ftrs = torchvision.transforms.CenterCrop([H,W])(enc_ftrs)\n",
        "    return enc_ftrs"
      ],
      "execution_count": null,
      "outputs": []
    },
    {
      "cell_type": "code",
      "metadata": {
        "id": "A0tc8DZ84vfN"
      },
      "source": [
        "class UNet(nn.Module):\n",
        "  def __init__(self, enc_chs=(3,64,128,256,512,1024), dec_chs=(1024, 512, 256, 128, 64), num_class=1, retain_dim=False, out_sz=(572,572)):\n",
        "    super().__init__()\n",
        "    self.encoder = Encoder(enc_chs)\n",
        "    self.decoder = Decoder(dec_chs)\n",
        "    self.head = nn.Conv2d(dec_chs[-1], num_class, 1)\n",
        "    self.retain_dim = retain_dim\n",
        "    self.out_sz = out_sz\n",
        "\n",
        "  def forward(self, x):\n",
        "    enc_ftrs = self.encoder(x)\n",
        "    out = self.decoder(enc_ftrs[::-1][0], enc_ftrs[::-1][1:])\n",
        "    out = self.head(out)\n",
        "    if self.retain_dim:\n",
        "      out = nn.functional.interpolate(out, self.out_sz)\n",
        "    return out"
      ],
      "execution_count": null,
      "outputs": []
    },
    {
      "cell_type": "code",
      "metadata": {
        "colab": {
          "base_uri": "https://localhost:8080/"
        },
        "id": "3hX1a7y56r2s",
        "outputId": "bdaf8b16-0872-495e-8447-ea63b7b21477"
      },
      "source": [
        "unet = UNet(retain_dim=True)\n",
        "x = torch.randn(1,3,572,572)\n",
        "unet(x).shape"
      ],
      "execution_count": null,
      "outputs": [
        {
          "output_type": "execute_result",
          "data": {
            "text/plain": [
              "torch.Size([1, 1, 572, 572])"
            ]
          },
          "metadata": {},
          "execution_count": 49
        }
      ]
    },
    {
      "cell_type": "code",
      "metadata": {
        "id": "lDE5Snll60yb"
      },
      "source": [
        ""
      ],
      "execution_count": null,
      "outputs": []
    }
  ]
}